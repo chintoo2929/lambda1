{
 "cells": [
  {
   "cell_type": "code",
   "execution_count": 1,
   "id": "a29c7a15",
   "metadata": {},
   "outputs": [
    {
     "data": {
      "text/plain": [
       "[35]"
      ]
     },
     "execution_count": 1,
     "metadata": {},
     "output_type": "execute_result"
    }
   ],
   "source": [
    "x=[10]\n",
    "def add_25(i):\n",
    "    return i+25\n",
    "list(map(lambda x : x++25,[10]))"
   ]
  },
  {
   "cell_type": "code",
   "execution_count": null,
   "id": "b12b2670",
   "metadata": {},
   "outputs": [],
   "source": []
  }
 ],
 "metadata": {
  "kernelspec": {
   "display_name": "Python 3 (ipykernel)",
   "language": "python",
   "name": "python3"
  },
  "language_info": {
   "codemirror_mode": {
    "name": "ipython",
    "version": 3
   },
   "file_extension": ".py",
   "mimetype": "text/x-python",
   "name": "python",
   "nbconvert_exporter": "python",
   "pygments_lexer": "ipython3",
   "version": "3.9.6"
  }
 },
 "nbformat": 4,
 "nbformat_minor": 5
}
